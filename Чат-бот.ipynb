{
 "cells": [
  {
   "cell_type": "code",
   "execution_count": 1,
   "id": "a92d79da-c943-4768-a0bf-1e22c2abb9ff",
   "metadata": {},
   "outputs": [
    {
     "name": "stdout",
     "output_type": "stream",
     "text": [
      "Requirement already satisfied: nltk in /Users/macbook/Library/jupyterlab-desktop/jlab_server/lib/python3.8/site-packages (3.8)\n",
      "Requirement already satisfied: joblib in /Users/macbook/Library/jupyterlab-desktop/jlab_server/lib/python3.8/site-packages (from nltk) (1.2.0)\n",
      "Requirement already satisfied: click in /Users/macbook/Library/jupyterlab-desktop/jlab_server/lib/python3.8/site-packages (from nltk) (8.1.3)\n",
      "Requirement already satisfied: tqdm in /Users/macbook/Library/jupyterlab-desktop/jlab_server/lib/python3.8/site-packages (from nltk) (4.64.1)\n",
      "Requirement already satisfied: regex>=2021.8.3 in /Users/macbook/Library/jupyterlab-desktop/jlab_server/lib/python3.8/site-packages (from nltk) (2022.10.31)\n"
     ]
    }
   ],
   "source": [
    "!pip install nltk\n"
   ]
  },
  {
   "cell_type": "code",
   "execution_count": 4,
   "id": "4a40b30f-0b27-44c1-93dc-24841d3f0831",
   "metadata": {},
   "outputs": [],
   "source": [
    "import random as r\n",
    "from nltk import edit_distance #Расстояние Левинштейна, мера того, насколько строки отличаются\n",
    "import json\n",
    "import re\n",
    "import pandas as pd\n",
    "\n",
    "from sklearn.feature_extraction.text import CountVectorizer as cv\n",
    "from sklearn.feature_extraction.text import TfidfVectorizer as tf\n",
    "from sklearn.ensemble import RandomForestClassifier\n",
    "from sklearn.metrics import accuracy_score\n",
    "from sklearn.metrics import r2_score\n",
    "from sklearn.metrics import recall_score\n",
    "from sklearn.metrics import roc_curve\n",
    "from sklearn.metrics import f1_score\n",
    "from sklearn.neural_network import MLPClassifier\n",
    "\n"
   ]
  },
  {
   "cell_type": "code",
   "execution_count": 6,
   "id": "e8774907-7d08-4f28-b376-a5ac17298086",
   "metadata": {},
   "outputs": [],
   "source": [
    "with open(\"big_bot_config.json\", \"r\") as config_file:\n",
    "    data = json.load(config_file)\n",
    "\n"
   ]
  },
  {
   "cell_type": "code",
   "execution_count": 7,
   "id": "528b8602-cb21-4a77-9cc6-1ea21ee8c706",
   "metadata": {},
   "outputs": [],
   "source": [
    "INTENTS = data['intents']"
   ]
  },
  {
   "cell_type": "code",
   "execution_count": 8,
   "id": "7afc062a-65a8-4b2f-af5f-bf33ed226a9e",
   "metadata": {},
   "outputs": [],
   "source": [
    "def filter_text(text):\n",
    "    text = text.lower()\n",
    "    #text = text.lower().strip()\n",
    "    #Убирать разные символы\n",
    "    text = text.strip()\n",
    "    #Найти все знаки преминания и заменить их на пустоту\n",
    "    expression = r'[^\\w\\s]'\n",
    "    text = re.sub(expression, \"\", text)\n",
    "    #lambda t: re.sub(r'[^\\w\\s]', t.lower(), t.strip(),t) уточнить\n",
    "    return text\n",
    "\n",
    "\n",
    "\n",
    "def text_match(user_text, example):\n",
    "    user_text = filter_text(user_text)\n",
    "    example = filter_text(example)\n",
    "\n",
    "    distance = edit_distance(user_text, example)\n",
    "    avg_len = (len(user_text) + len(example)) / 2\n",
    "    # Процент опечаток\n",
    "    ratio = distance / avg_len\n",
    "    if distance > 3:\n",
    "        return False\n",
    "\n",
    "    elif ratio > 0.4:\n",
    "        return False\n",
    "\n",
    "    else:\n",
    "        return True\n",
    "       #return ratio > 0.4\n",
    "\n",
    "#print(text_match(\"Константинопольский!\", \"Констнтигопольокий\"))\n",
    "\n",
    "#Все намерения из карты\n",
    "#print(INTENTS.keys())\n",
    "\n",
    "#Определение намерений пользователя\n",
    "def get_intent(user_text):\n",
    "    for intent in INTENTS:\n",
    "        examples = INTENTS[intent][\"examples\"]\n",
    "        \n",
    "        #func = [print(examples == filter_text(user_text)) for examples in INTENTS]\n",
    "        for example in examples:\n",
    "            if text_match(user_text, example):\n",
    "                return intent\n",
    "    \n",
    "#print(get_intent(\"ПРВИЕТ ! ! !\"))\n",
    "\n",
    "#print(get_intent(\"привет\"))\n",
    "# СДелать случайный ответ из карты намерений\n",
    "def get_random_response(intent):\n",
    "    return r.choice(INTENTS[intent]['responses'])\n",
    "\n",
    "# Классификация текстов\n",
    "\n",
    "\n"
   ]
  },
  {
   "cell_type": "code",
   "execution_count": 9,
   "id": "d9284c7e-1404-475c-8a2d-51c578433dbd",
   "metadata": {},
   "outputs": [
    {
     "data": {
      "text/plain": [
       "'привет пр   '"
      ]
     },
     "execution_count": 9,
     "metadata": {},
     "output_type": "execute_result"
    }
   ],
   "source": [
    "filter_text(\"ПРИВЕТ! Пр!   !\")\n",
    "\n",
    "#print(get_intent(\"расскажи анекдот!\"))"
   ]
  },
  {
   "cell_type": "code",
   "execution_count": 10,
   "id": "7b4085e9-90bc-4e8f-a084-b51342c7f997",
   "metadata": {},
   "outputs": [],
   "source": [
    "# Подготовка данных\n",
    "X = [] # Фраза (входные данные)\n",
    "y = [] # Намерение (выходные данные)\n",
    "\n",
    "for intent in INTENTS:\n",
    "    examples = INTENTS[intent]['examples']\n",
    "    for example in examples:\n",
    "        text = filter_text(example)\n",
    "        if len(text) < 3:\n",
    "            continue\n",
    "        else:\n",
    "            X.append(text)\n",
    "            y.append(intent)\n",
    "\n",
    "# Векторизация текстов. Текст => вектор [0, 2, 5, 10]\n",
    "# CountVectirizer, sklearn TfidfVectorizer\n",
    "\n",
    "\n",
    "# Создаём векторайзер\n",
    "vectorizer = cv()\n",
    "\n",
    "# Обучить векторайзер\n",
    "vectorizer.fit(X)\n",
    "\n",
    "# Трансформация данных\n",
    "vecX = vectorizer.transform(X) # сохраняем векторизованные тексты\n",
    "\n",
    "\n"
   ]
  },
  {
   "cell_type": "code",
   "execution_count": 11,
   "id": "b5d34d31-aa28-4316-8492-7d4c0a1d4966",
   "metadata": {},
   "outputs": [
    {
     "name": "stdout",
     "output_type": "stream",
     "text": [
      "['wish']\n",
      "score_accuracy_score =  0.829137294394092\n",
      "score_recall_score =  0.829137294394092\n",
      "score_f1_score =  0.7593533963506648\n"
     ]
    }
   ],
   "source": [
    "model = RandomForestClassifier() # Настройки Добавить параметры\n",
    "fit_model = model.fit(vecX, y) # Обучение\n",
    "\n",
    "print(model.predict(vectorizer.transform(['Любимые занятия твои днём']))) # Сделать предсказание (по фразе определить намерение)\n",
    "\n",
    "# Метрики\n",
    "# Оценка качества:\n",
    "y_pred = model.predict(vecX)\n",
    "\n",
    "print('score_accuracy_score = ', accuracy_score(y, y_pred))\n",
    "#print('score_r2_score = ', r2_score(y, y_pred, multioutput = '2500'))\n",
    "print('score_recall_score = ', recall_score(y, y_pred, average = 'micro'))\n",
    "#print('score_roc_curve = ', roc_curve(y, y_pred))\n",
    "print('score_f1_score = ', f1_score(y, y_pred, average = 'macro'))\n"
   ]
  },
  {
   "cell_type": "code",
   "execution_count": 12,
   "id": "c5f49f8c-a060-4f1d-a2df-8f7db33b8576",
   "metadata": {},
   "outputs": [
    {
     "name": "stdout",
     "output_type": "stream",
     "text": [
      "score_accuracy_score =  0.8288016112789527\n",
      "score_recall_score =  0.8288016112789527\n",
      "score_f1_score =  0.7502975498231754\n"
     ]
    },
    {
     "name": "stderr",
     "output_type": "stream",
     "text": [
      "/Users/macbook/Library/jupyterlab-desktop/jlab_server/lib/python3.8/site-packages/sklearn/neural_network/_multilayer_perceptron.py:702: ConvergenceWarning: Stochastic Optimizer: Maximum iterations (200) reached and the optimization hasn't converged yet.\n",
      "  warnings.warn(\n"
     ]
    }
   ],
   "source": [
    "mlp = MLPClassifier()\n",
    "mlp.fit(vecX,y)\n",
    "mlp_pred = mlp.predict(vecX)\n",
    "\n",
    "\n",
    "print('score_accuracy_score = ', accuracy_score(y, mlp_pred))\n",
    "#print('score_r2_score = ', r2_score(y, y_pred, multioutput = '2500'))\n",
    "print('score_recall_score = ', recall_score(y, mlp_pred, average = 'micro'))\n",
    "#print('score_roc_curve = ', roc_curve(y, y_pred))\n",
    "print('score_f1_score = ', f1_score(y, mlp_pred, average = 'macro'))\n",
    "\n"
   ]
  },
  {
   "cell_type": "code",
   "execution_count": 13,
   "id": "c682c050-1f52-4af6-b28d-ad67b79ab5d5",
   "metadata": {},
   "outputs": [],
   "source": [
    "# Определяем намерение с помощью модели: \n",
    "def get_intent_ml(text):\n",
    "    vec_text = vectorizer.transform([text])\n",
    "    pred_intent = model.predict(vec_text)[0]\n",
    "    # model.predict_proba() < 30% ? => random.choice(faile_phrase) - определение вероятности других ответов\n",
    "    # []\n",
    "    return pred_intent\n",
    "\n",
    "def bot(text):\n",
    "    intent = get_intent(text)\n",
    "    if intent:\n",
    "        return get_random_response(intent)\n",
    "\n",
    "    intent = get_intent_ml(text)\n",
    "    return get_random_response(intent)"
   ]
  },
  {
   "cell_type": "code",
   "execution_count": 11,
   "id": "3ae9b2b2-7f21-4f6f-b7a1-7c6f1457f0d3",
   "metadata": {},
   "outputs": [
    {
     "data": {
      "text/plain": [
       "'Сын спрашивает отца:\\n — Пап, а правда, что все сказки начинаются: \"В тридевятом царстве\", или \"Жили были старик со старухой\"?\\n — Нет, сынок! Некоторые сказки начинаются так: \"Если вы меня изберете, то я вам...\"'"
      ]
     },
     "execution_count": 11,
     "metadata": {},
     "output_type": "execute_result"
    }
   ],
   "source": [
    "bot(\"расскажи анекдот\")\n"
   ]
  },
  {
   "cell_type": "code",
   "execution_count": 12,
   "id": "81c98586-bfe4-4f7b-a637-e3ec988fa825",
   "metadata": {},
   "outputs": [],
   "source": [
    "# Поговорить с ботом\n",
    "\n",
    "#user_text = ''\n",
    "#while user_text != \"exit\":\n",
    "#  print(\"[USER]: \", end = \"\")\n",
    "#  user_text = input()\n",
    "#  reply = bot(user_text)\n",
    "#  print(f'[BOT]: {reply}')\n"
   ]
  },
  {
   "cell_type": "code",
   "execution_count": 13,
   "id": "e5f1b8ba-4e46-42cc-880d-787a997485d3",
   "metadata": {},
   "outputs": [],
   "source": [
    "#! pip install python-telegram-bot --pre\n",
    "#! pip install nest-asyncio"
   ]
  },
  {
   "cell_type": "code",
   "execution_count": 14,
   "id": "5bbe277f-59ff-4af3-bfc5-281fe5b16120",
   "metadata": {},
   "outputs": [],
   "source": [
    "import nest_asyncio\n",
    "nest_asyncio.apply()"
   ]
  },
  {
   "cell_type": "code",
   "execution_count": 15,
   "id": "cc0bf863-2dbe-4b5e-8e63-1deba7f2825c",
   "metadata": {},
   "outputs": [],
   "source": [
    "from telegram import Update\n",
    "from telegram.ext import ApplicationBuilder, MessageHandler, filters"
   ]
  },
  {
   "cell_type": "code",
   "execution_count": 16,
   "id": "11f3c851-49e1-49df-8fd3-efaca04df5d7",
   "metadata": {},
   "outputs": [],
   "source": [
    "TOKEN = '5864216251:AAF-uP6r15oBpkRe3pzorX-jtqlGWeypHuo'"
   ]
  },
  {
   "cell_type": "code",
   "execution_count": 17,
   "id": "adddf64c-4ba4-4f21-bbb6-b78b6f2460a6",
   "metadata": {},
   "outputs": [],
   "source": [
    "app = ApplicationBuilder().token(TOKEN).build()"
   ]
  },
  {
   "cell_type": "code",
   "execution_count": null,
   "id": "02fbb90d-da76-493c-a759-b7420eccd536",
   "metadata": {},
   "outputs": [
    {
     "name": "stdout",
     "output_type": "stream",
     "text": [
      "[USER]: Привет1\n",
      "[BOT]: Ку\n",
      "[USER]: Что делаешь?\n",
      "[BOT]: Еще увидимся!\n",
      "[USER]: что мне делать?\n",
      "[BOT]: Иди поешь. Еда - это хорошо.\n",
      "[USER]: а дальше?\n",
      "[BOT]: Это действительно радостно\n",
      "[USER]: Расскажи анекдот\n",
      "[BOT]: Послематчевая пресс-конференция после игры Сербия-Россия 5: 0. \n",
      "Вопрос из зала:\n",
      " — Станислав Саламович, вам не кажется, что сборная России сегодня прилюдно занималась тем, чем Дзюба занимался приватно?\n",
      " — Нет, вы абсолютно не правы! Сегодня был полноценный акт!\n",
      "[USER]: Как тебя зовут?\n",
      "[BOT]: Алиса\n",
      "[USER]: Пойдём гулять\n",
      "[BOT]: Ваш успех радует\n",
      "[USER]: Ладно пок\n",
      "[BOT]: В следующий раз стучи\n",
      "[USER]: хорошо\n",
      "[BOT]: Всегда пожалуйста!\n"
     ]
    }
   ],
   "source": [
    "async def reply_by_bot(upd: Update, _ctx):\n",
    "    text = upd.message.text\n",
    "    print(f'[USER]: {text}')\n",
    "    reply = bot(text)\n",
    "    print(f'[BOT]: {reply}')\n",
    "    upd.effective_user.full_name\n",
    "    await upd.message.reply_text(reply)\n",
    "\n",
    "handler = MessageHandler(filters.TEXT, reply_by_bot)\n",
    "app.add_handler(handler)\n",
    "\n",
    "app.run_polling(poll_interval = 1)\n",
    "#app.run_webhook()\n"
   ]
  }
 ],
 "metadata": {
  "kernelspec": {
   "display_name": "Python 3 (ipykernel)",
   "language": "python",
   "name": "python3"
  },
  "language_info": {
   "codemirror_mode": {
    "name": "ipython",
    "version": 3
   },
   "file_extension": ".py",
   "mimetype": "text/x-python",
   "name": "python",
   "nbconvert_exporter": "python",
   "pygments_lexer": "ipython3",
   "version": "3.8.13"
  }
 },
 "nbformat": 4,
 "nbformat_minor": 5
}
