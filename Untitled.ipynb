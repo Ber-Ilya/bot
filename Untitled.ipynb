{
 "cells": [
  {
   "cell_type": "code",
   "execution_count": null,
   "id": "186b95e9-28d5-4951-b8df-a0406c900164",
   "metadata": {},
   "outputs": [],
   "source": [
    "намерение = {\"приветствие\": \"юзер\": \n",
    "             \" Здарова!\"\n",
    "            \"бот\": \"привет!\" ,\n",
    "            \"поболать\": \"юзер\": \n",
    "             \" Здарова!\"\n",
    "            \"бот\": \"привет!\" ,\n",
    "             \"про кино\": \"юзер\": \n",
    "             \" Здарова!\"\n",
    "            \"бот\": \"привет!\" \" двадцать ответов\n",
    "             \n",
    "\n",
    "\"приветствие\": \"юзер\": \n",
    "             \" Здарова!\"\n",
    "            \"бот\": \"привет!\" \n",
    "}\n",
    "}\n"
   ]
  }
 ],
 "metadata": {
  "kernelspec": {
   "display_name": "Python 3 (ipykernel)",
   "language": "python",
   "name": "python3"
  },
  "language_info": {
   "codemirror_mode": {
    "name": "ipython",
    "version": 3
   },
   "file_extension": ".py",
   "mimetype": "text/x-python",
   "name": "python",
   "nbconvert_exporter": "python",
   "pygments_lexer": "ipython3",
   "version": "3.8.13"
  }
 },
 "nbformat": 4,
 "nbformat_minor": 5
}
